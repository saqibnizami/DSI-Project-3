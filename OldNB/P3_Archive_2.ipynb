{
 "cells": [
  {
   "cell_type": "markdown",
   "metadata": {},
   "source": [
    "Set up library imports"
   ]
  },
  {
   "cell_type": "code",
   "execution_count": 89,
   "metadata": {},
   "outputs": [],
   "source": [
    "import requests, re, json, praw, pprint, time\n",
    "import pandas as pd\n",
    "import numpy as np\n",
    "from psaw import PushshiftAPI    # PSAW recommended by following PRAW errors\n",
    "import datetime as dt            # PSAW docs\n",
    "from IPython.display import display\n",
    "from sklearn.feature_selection import chi2, SelectPercentile\n",
    "from sklearn.linear_model import LogisticRegression\n",
    "from sklearn.pipeline import Pipeline, make_pipeline, FeatureUnion\n",
    "from sklearn.svm import SVC\n",
    "from sklearn.feature_extraction.text import CountVectorizer, TfidfVectorizer, TfidfTransformer\n",
    "from sklearn.model_selection import train_test_split, GridSearchCV\n",
    "from sklearn.tree import DecisionTreeClassifier\n",
    "from sklearn.naive_bayes import MultinomialNB\n",
    "from sklearn.ensemble import BaggingClassifier, RandomForestClassifier, ExtraTreesClassifier\n",
    "from sklearn.metrics import accuracy_score, confusion_matrix\n",
    "import seaborn as sns\n",
    "import matplotlib.pyplot as plt\n",
    "from jupyterthemes import jtplot\n",
    "from sklearn.metrics import classification_report\n",
    "from sklearn.base import BaseEstimator, TransformerMixin\n",
    "from sklearn.preprocessing import StandardScaler"
   ]
  },
  {
   "cell_type": "code",
   "execution_count": 5,
   "metadata": {},
   "outputs": [],
   "source": [
    "# Initializing reddit API\n",
    "\n",
    "reddit = praw.Reddit(client_id='CmKUgfSklwH6Gw',\n",
    "                     client_secret='WprZwImA7V8TcggsN0GfpZOfl2g',\n",
    "                     user_agent='ClassProjectBot-PRAW/PSAW',\n",
    "                     password='dsBaLpQSua2ctCXU2XyupJ',\n",
    "                     username='refused_dev')\n",
    "\n",
    "# Set PushShiftAPI\n",
    "api = PushshiftAPI()\n",
    "\n",
    "# Set a variable equal to the target subreddit\n",
    "r_all = reddit.subreddit('all')"
   ]
  },
  {
   "cell_type": "code",
   "execution_count": null,
   "metadata": {},
   "outputs": [],
   "source": [
    "# Grab submissions from the subreddit\n",
    "subs = []\n",
    "for sub in r_all.hot(limit=None):\n",
    "    sub_dict = {}\n",
    "    sub_dict['submissions'] = sub\n",
    "    subs.append(sub_dict)\n",
    "subscrape = pd.DataFrame(subs)\n",
    "subscrape.shape, subscrape.head()\n",
    "\n",
    "# Save submission pull to csv\n",
    "subscrape.to_csv(\"subs.csv\")"
   ]
  },
  {
   "cell_type": "code",
   "execution_count": null,
   "metadata": {},
   "outputs": [],
   "source": [
    "# Grab features from the submission IDs\n",
    "sublist = []\n",
    "for c in subscrape['submissions']:\n",
    "    subdict = {}\n",
    "    subdict['title'] = c.title\n",
    "    subdict['comments'] = c.num_comments\n",
    "    subdict['crossposts'] = c.num_crossposts\n",
    "    subdict['score'] = c.score\n",
    "    subdict['subreddit'] = c.subreddit\n",
    "    subdict['domain'] = c.domain\n",
    "    subdict['gilded'] = c.gilded\n",
    "    subdict['upvote_ratio'] = c.upvote_ratio\n",
    "    subdict['created'] = c.created\n",
    "    fri_sublist.append(subdict)\n",
    "\n",
    "df = pd.DataFrame(sublist)\n",
    "\n",
    "def get_date(created):\n",
    "    return dt.datetime.fromtimestamp(created)\n",
    "\n",
    "stamp = data['created'].apply(get_date)\n",
    "data = data.assign(timestamp = stamp)\n",
    "data.drop(columns='created', inplace=True)\n",
    "data.to_csv('9068df_with_time.csv')"
   ]
  },
  {
   "cell_type": "markdown",
   "metadata": {},
   "source": [
    "Load up previous scrapes"
   ]
  },
  {
   "cell_type": "code",
   "execution_count": 6,
   "metadata": {},
   "outputs": [
    {
     "data": {
      "text/plain": [
       "(22767, 10)"
      ]
     },
     "metadata": {},
     "output_type": "display_data"
    },
    {
     "data": {
      "text/html": [
       "<div>\n",
       "<style scoped>\n",
       "    .dataframe tbody tr th:only-of-type {\n",
       "        vertical-align: middle;\n",
       "    }\n",
       "\n",
       "    .dataframe tbody tr th {\n",
       "        vertical-align: top;\n",
       "    }\n",
       "\n",
       "    .dataframe thead th {\n",
       "        text-align: right;\n",
       "    }\n",
       "</style>\n",
       "<table border=\"1\" class=\"dataframe\">\n",
       "  <thead>\n",
       "    <tr style=\"text-align: right;\">\n",
       "      <th></th>\n",
       "      <th>Unnamed: 0</th>\n",
       "      <th>comments</th>\n",
       "      <th>created</th>\n",
       "      <th>crossposts</th>\n",
       "      <th>domain</th>\n",
       "      <th>gilded</th>\n",
       "      <th>score</th>\n",
       "      <th>subreddit</th>\n",
       "      <th>title</th>\n",
       "      <th>upvote_ratio</th>\n",
       "    </tr>\n",
       "  </thead>\n",
       "  <tbody>\n",
       "    <tr>\n",
       "      <th>2</th>\n",
       "      <td>2</td>\n",
       "      <td>3232</td>\n",
       "      <td>1.527744e+09</td>\n",
       "      <td>4</td>\n",
       "      <td>youtube.com</td>\n",
       "      <td>5</td>\n",
       "      <td>83372</td>\n",
       "      <td>videos</td>\n",
       "      <td>Gamer bet if the new Bethesda reveal was not F...</td>\n",
       "      <td>0.78</td>\n",
       "    </tr>\n",
       "    <tr>\n",
       "      <th>3</th>\n",
       "      <td>3</td>\n",
       "      <td>2439</td>\n",
       "      <td>1.527740e+09</td>\n",
       "      <td>6</td>\n",
       "      <td>smh.com.au</td>\n",
       "      <td>0</td>\n",
       "      <td>61556</td>\n",
       "      <td>worldnews</td>\n",
       "      <td>Police faked 258,000 breath tests in shocking ...</td>\n",
       "      <td>0.89</td>\n",
       "    </tr>\n",
       "    <tr>\n",
       "      <th>0</th>\n",
       "      <td>0</td>\n",
       "      <td>268</td>\n",
       "      <td>1.527746e+09</td>\n",
       "      <td>1</td>\n",
       "      <td>i.redd.it</td>\n",
       "      <td>0</td>\n",
       "      <td>54696</td>\n",
       "      <td>BikiniBottomTwitter</td>\n",
       "      <td>About to make a splash? More like just about t...</td>\n",
       "      <td>0.82</td>\n",
       "    </tr>\n",
       "    <tr>\n",
       "      <th>1</th>\n",
       "      <td>1</td>\n",
       "      <td>3771</td>\n",
       "      <td>1.527740e+09</td>\n",
       "      <td>2</td>\n",
       "      <td>thehill.com</td>\n",
       "      <td>0</td>\n",
       "      <td>39344</td>\n",
       "      <td>politics</td>\n",
       "      <td>FBI is reconstructing shredded documents obtai...</td>\n",
       "      <td>0.89</td>\n",
       "    </tr>\n",
       "    <tr>\n",
       "      <th>4</th>\n",
       "      <td>4</td>\n",
       "      <td>275</td>\n",
       "      <td>1.527748e+09</td>\n",
       "      <td>0</td>\n",
       "      <td>i.redd.it</td>\n",
       "      <td>0</td>\n",
       "      <td>31701</td>\n",
       "      <td>PrequelMemes</td>\n",
       "      <td>Always 2 there are, no more, no less</td>\n",
       "      <td>0.85</td>\n",
       "    </tr>\n",
       "  </tbody>\n",
       "</table>\n",
       "</div>"
      ],
      "text/plain": [
       "   Unnamed: 0  comments       created  crossposts       domain  gilded  score  \\\n",
       "2           2      3232  1.527744e+09           4  youtube.com       5  83372   \n",
       "3           3      2439  1.527740e+09           6   smh.com.au       0  61556   \n",
       "0           0       268  1.527746e+09           1    i.redd.it       0  54696   \n",
       "1           1      3771  1.527740e+09           2  thehill.com       0  39344   \n",
       "4           4       275  1.527748e+09           0    i.redd.it       0  31701   \n",
       "\n",
       "             subreddit                                              title  \\\n",
       "2               videos  Gamer bet if the new Bethesda reveal was not F...   \n",
       "3            worldnews  Police faked 258,000 breath tests in shocking ...   \n",
       "0  BikiniBottomTwitter  About to make a splash? More like just about t...   \n",
       "1             politics  FBI is reconstructing shredded documents obtai...   \n",
       "4         PrequelMemes               Always 2 there are, no more, no less   \n",
       "\n",
       "   upvote_ratio  \n",
       "2          0.78  \n",
       "3          0.89  \n",
       "0          0.82  \n",
       "1          0.89  \n",
       "4          0.85  "
      ]
     },
     "metadata": {},
     "output_type": "display_data"
    }
   ],
   "source": [
    "df = pd.read_csv('df_w_feats.csv')\n",
    "display(df.shape, df.head().sort_values('score', ascending=False))"
   ]
  },
  {
   "cell_type": "code",
   "execution_count": 7,
   "metadata": {},
   "outputs": [
    {
     "name": "stdout",
     "output_type": "stream",
     "text": [
      "<class 'pandas.core.frame.DataFrame'>\n",
      "RangeIndex: 22767 entries, 0 to 22766\n",
      "Data columns (total 10 columns):\n",
      "Unnamed: 0      22767 non-null int64\n",
      "comments        22767 non-null int64\n",
      "created         22767 non-null float64\n",
      "crossposts      22767 non-null int64\n",
      "domain          22767 non-null object\n",
      "gilded          22767 non-null int64\n",
      "score           22767 non-null int64\n",
      "subreddit       22767 non-null object\n",
      "title           22767 non-null object\n",
      "upvote_ratio    22767 non-null float64\n",
      "dtypes: float64(2), int64(5), object(3)\n",
      "memory usage: 1.7+ MB\n"
     ]
    }
   ],
   "source": [
    "# df.drop(columns='Unnamed: 0', inplace=True)\n",
    "df.info()"
   ]
  },
  {
   "cell_type": "code",
   "execution_count": 8,
   "metadata": {},
   "outputs": [],
   "source": [
    "# convert unix timecode to human readable\n",
    "\n",
    "def get_date(created):\n",
    "    return dt.datetime.fromtimestamp(created)\n",
    "stamp = df['created'].apply(get_date)\n",
    "df = df.assign(timestamp = stamp)"
   ]
  },
  {
   "cell_type": "code",
   "execution_count": 9,
   "metadata": {},
   "outputs": [
    {
     "data": {
      "text/plain": [
       "(22767, 11)"
      ]
     },
     "metadata": {},
     "output_type": "display_data"
    },
    {
     "data": {
      "text/html": [
       "<div>\n",
       "<style scoped>\n",
       "    .dataframe tbody tr th:only-of-type {\n",
       "        vertical-align: middle;\n",
       "    }\n",
       "\n",
       "    .dataframe tbody tr th {\n",
       "        vertical-align: top;\n",
       "    }\n",
       "\n",
       "    .dataframe thead th {\n",
       "        text-align: right;\n",
       "    }\n",
       "</style>\n",
       "<table border=\"1\" class=\"dataframe\">\n",
       "  <thead>\n",
       "    <tr style=\"text-align: right;\">\n",
       "      <th></th>\n",
       "      <th>Unnamed: 0</th>\n",
       "      <th>comments</th>\n",
       "      <th>created</th>\n",
       "      <th>crossposts</th>\n",
       "      <th>domain</th>\n",
       "      <th>gilded</th>\n",
       "      <th>score</th>\n",
       "      <th>subreddit</th>\n",
       "      <th>title</th>\n",
       "      <th>upvote_ratio</th>\n",
       "      <th>timestamp</th>\n",
       "    </tr>\n",
       "  </thead>\n",
       "  <tbody>\n",
       "    <tr>\n",
       "      <th>0</th>\n",
       "      <td>0</td>\n",
       "      <td>268</td>\n",
       "      <td>1.527746e+09</td>\n",
       "      <td>1</td>\n",
       "      <td>i.redd.it</td>\n",
       "      <td>0</td>\n",
       "      <td>54696</td>\n",
       "      <td>BikiniBottomTwitter</td>\n",
       "      <td>About to make a splash? More like just about t...</td>\n",
       "      <td>0.82</td>\n",
       "      <td>2018-05-31 01:59:13</td>\n",
       "    </tr>\n",
       "    <tr>\n",
       "      <th>1</th>\n",
       "      <td>1</td>\n",
       "      <td>3771</td>\n",
       "      <td>1.527740e+09</td>\n",
       "      <td>2</td>\n",
       "      <td>thehill.com</td>\n",
       "      <td>0</td>\n",
       "      <td>39344</td>\n",
       "      <td>politics</td>\n",
       "      <td>FBI is reconstructing shredded documents obtai...</td>\n",
       "      <td>0.89</td>\n",
       "      <td>2018-05-31 00:20:29</td>\n",
       "    </tr>\n",
       "    <tr>\n",
       "      <th>2</th>\n",
       "      <td>2</td>\n",
       "      <td>3232</td>\n",
       "      <td>1.527744e+09</td>\n",
       "      <td>4</td>\n",
       "      <td>youtube.com</td>\n",
       "      <td>5</td>\n",
       "      <td>83372</td>\n",
       "      <td>videos</td>\n",
       "      <td>Gamer bet if the new Bethesda reveal was not F...</td>\n",
       "      <td>0.78</td>\n",
       "      <td>2018-05-31 01:14:48</td>\n",
       "    </tr>\n",
       "    <tr>\n",
       "      <th>3</th>\n",
       "      <td>3</td>\n",
       "      <td>2439</td>\n",
       "      <td>1.527740e+09</td>\n",
       "      <td>6</td>\n",
       "      <td>smh.com.au</td>\n",
       "      <td>0</td>\n",
       "      <td>61556</td>\n",
       "      <td>worldnews</td>\n",
       "      <td>Police faked 258,000 breath tests in shocking ...</td>\n",
       "      <td>0.89</td>\n",
       "      <td>2018-05-31 00:14:09</td>\n",
       "    </tr>\n",
       "    <tr>\n",
       "      <th>4</th>\n",
       "      <td>4</td>\n",
       "      <td>275</td>\n",
       "      <td>1.527748e+09</td>\n",
       "      <td>0</td>\n",
       "      <td>i.redd.it</td>\n",
       "      <td>0</td>\n",
       "      <td>31701</td>\n",
       "      <td>PrequelMemes</td>\n",
       "      <td>Always 2 there are, no more, no less</td>\n",
       "      <td>0.85</td>\n",
       "      <td>2018-05-31 02:31:16</td>\n",
       "    </tr>\n",
       "  </tbody>\n",
       "</table>\n",
       "</div>"
      ],
      "text/plain": [
       "   Unnamed: 0  comments       created  crossposts       domain  gilded  score  \\\n",
       "0           0       268  1.527746e+09           1    i.redd.it       0  54696   \n",
       "1           1      3771  1.527740e+09           2  thehill.com       0  39344   \n",
       "2           2      3232  1.527744e+09           4  youtube.com       5  83372   \n",
       "3           3      2439  1.527740e+09           6   smh.com.au       0  61556   \n",
       "4           4       275  1.527748e+09           0    i.redd.it       0  31701   \n",
       "\n",
       "             subreddit                                              title  \\\n",
       "0  BikiniBottomTwitter  About to make a splash? More like just about t...   \n",
       "1             politics  FBI is reconstructing shredded documents obtai...   \n",
       "2               videos  Gamer bet if the new Bethesda reveal was not F...   \n",
       "3            worldnews  Police faked 258,000 breath tests in shocking ...   \n",
       "4         PrequelMemes               Always 2 there are, no more, no less   \n",
       "\n",
       "   upvote_ratio           timestamp  \n",
       "0          0.82 2018-05-31 01:59:13  \n",
       "1          0.89 2018-05-31 00:20:29  \n",
       "2          0.78 2018-05-31 01:14:48  \n",
       "3          0.89 2018-05-31 00:14:09  \n",
       "4          0.85 2018-05-31 02:31:16  "
      ]
     },
     "metadata": {},
     "output_type": "display_data"
    }
   ],
   "source": [
    "display(df.shape,df.head())"
   ]
  },
  {
   "cell_type": "code",
   "execution_count": 35,
   "metadata": {},
   "outputs": [],
   "source": [
    "# df['datetime'] = df.timestamp.values.astype('datetime64[D]')"
   ]
  },
  {
   "cell_type": "code",
   "execution_count": 10,
   "metadata": {},
   "outputs": [
    {
     "name": "stdout",
     "output_type": "stream",
     "text": [
      "11.0 31.0 86.0\n"
     ]
    }
   ],
   "source": [
    "# calculate percentiles\n",
    "\n",
    "p25, p50, p75 = np.percentile(df.comments, 25), np.percentile(df.comments, 50), np.percentile(df.comments, 75)\n",
    "print(p25, p50, p75)\n",
    "\n",
    "df['p25'] = df['comments'] <= p25\n",
    "df['p50'] = df['comments'] <= p50\n",
    "df['p75'] = df['comments'] <= p75\n",
    "\n",
    "# posts with over the median amount of comments are a success\n",
    "# dft['success'] = dft['p50'].map({False : 1, True : 0})\n",
    "df['over25p'] = df['p25'].map({False : 1, True : 0})\n",
    "df['over50p'] = df['p50'].map({False : 1, True : 0}) # median\n",
    "df['over75p'] = df['p75'].map({False : 1, True : 0})"
   ]
  },
  {
   "cell_type": "code",
   "execution_count": 11,
   "metadata": {
    "scrolled": true
   },
   "outputs": [
    {
     "data": {
      "text/plain": [
       "(22767,)"
      ]
     },
     "execution_count": 11,
     "metadata": {},
     "output_type": "execute_result"
    }
   ],
   "source": [
    "y = df['over50p']\n",
    "# y.tolist()\n",
    "\n",
    "# y = pd.DataFrame(y)\n",
    "y.shape"
   ]
  },
  {
   "cell_type": "markdown",
   "metadata": {},
   "source": [
    "## Subreddit Analysis"
   ]
  },
  {
   "cell_type": "code",
   "execution_count": 14,
   "metadata": {
    "scrolled": true
   },
   "outputs": [],
   "source": [
    "trainx, testx, trainy, testy = train_test_split(df, y, test_size=.20,\n",
    "                                                    random_state=19)"
   ]
  },
  {
   "cell_type": "code",
   "execution_count": 15,
   "metadata": {},
   "outputs": [
    {
     "data": {
      "text/plain": [
       "((18213, 17), (18213,), (4554, 17), (4554,))"
      ]
     },
     "execution_count": 15,
     "metadata": {},
     "output_type": "execute_result"
    }
   ],
   "source": [
    "trainx.shape, trainy.shape, testx.shape, testy.shape"
   ]
  },
  {
   "cell_type": "code",
   "execution_count": 96,
   "metadata": {},
   "outputs": [
    {
     "name": "stderr",
     "output_type": "stream",
     "text": [
      "/Users/saqibnizami/anaconda3/envs/dsi/lib/python3.6/site-packages/matplotlib/axes/_axes.py:6462: UserWarning: The 'normed' kwarg is deprecated, and has been replaced by the 'density' kwarg.\n",
      "  warnings.warn(\"The 'normed' kwarg is deprecated, and has been \"\n"
     ]
    },
    {
     "data": {
      "image/png": "[encoded data removed]",
      "text/plain": [
       "<Figure size 460.8x403.2 with 1 Axes>"
      ]
     },
     "metadata": {},
     "output_type": "display_data"
    }
   ],
   "source": [
    "jtplot.style()\n",
    "# setting axis range in seaborn:\n",
    "# sns.distplot(dft.comments, kde=True).set(xlim=(0, 1000), ylim=(0, 0.0025));\n",
    "\n"
   ]
  },
  {
   "cell_type": "code",
   "execution_count": 39,
   "metadata": {},
   "outputs": [
    {
     "data": {
      "text/plain": [
       "the_donald      639\n",
       "politics        358\n",
       "ice_poseidon    336\n",
       "dankmemes       222\n",
       "me_irl          197\n",
       "dtype: int64"
      ]
     },
     "execution_count": 39,
     "metadata": {},
     "output_type": "execute_result"
    }
   ],
   "source": [
    "cvec = CountVectorizer()\n",
    "trainx_counts = cvec.fit_transform(trainx.subreddit)\n",
    "xtrainbag = pd.DataFrame(trainx_counts.todense(), \n",
    "                         columns=cvec.get_feature_names())\n",
    "xtrainbag.sum(axis=0).sort_values(ascending=False).head()\n",
    "\n",
    "# make a word cloud here!"
   ]
  },
  {
   "cell_type": "code",
   "execution_count": 17,
   "metadata": {},
   "outputs": [
    {
     "data": {
      "text/plain": [
       "0.7222222222222222"
      ]
     },
     "execution_count": 17,
     "metadata": {},
     "output_type": "execute_result"
    }
   ],
   "source": [
    "# pipeline to evaluate subreddits vs success\n",
    "\n",
    "pipe = make_pipeline(CountVectorizer(),\n",
    "                    RandomForestClassifier())\n",
    "pipe.fit(trainx['subreddit'], trainy)\n",
    "pipe.score(testx['subreddit'], testy)"
   ]
  },
  {
   "cell_type": "code",
   "execution_count": 43,
   "metadata": {},
   "outputs": [
    {
     "name": "stdout",
     "output_type": "stream",
     "text": [
      "             precision    recall  f1-score   support\n",
      "\n",
      "          0       0.75      0.71      0.73      2419\n",
      "          1       0.69      0.73      0.71      2135\n",
      "\n",
      "avg / total       0.72      0.72      0.72      4554\n",
      "\n"
     ]
    }
   ],
   "source": [
    "pred = pipe.predict(testx['subreddit'])\n",
    "print(classification_report(pred, testy))"
   ]
  },
  {
   "cell_type": "code",
   "execution_count": 82,
   "metadata": {},
   "outputs": [],
   "source": [
    "importantfeats = pd.DataFrame(pipe.steps[1][1].feature_importances_,\n",
    "                              pipe.steps[0][1].get_feature_names())"
   ]
  },
  {
   "cell_type": "code",
   "execution_count": 86,
   "metadata": {},
   "outputs": [
    {
     "data": {
      "text/html": [
       "<div>\n",
       "<style scoped>\n",
       "    .dataframe tbody tr th:only-of-type {\n",
       "        vertical-align: middle;\n",
       "    }\n",
       "\n",
       "    .dataframe tbody tr th {\n",
       "        vertical-align: top;\n",
       "    }\n",
       "\n",
       "    .dataframe thead th {\n",
       "        text-align: right;\n",
       "    }\n",
       "</style>\n",
       "<table border=\"1\" class=\"dataframe\">\n",
       "  <thead>\n",
       "    <tr style=\"text-align: right;\">\n",
       "      <th></th>\n",
       "      <th>0</th>\n",
       "    </tr>\n",
       "  </thead>\n",
       "  <tbody>\n",
       "    <tr>\n",
       "      <th>the_donald</th>\n",
       "      <td>0.014045</td>\n",
       "    </tr>\n",
       "    <tr>\n",
       "      <th>nba</th>\n",
       "      <td>0.012254</td>\n",
       "    </tr>\n",
       "    <tr>\n",
       "      <th>soccer</th>\n",
       "      <td>0.008974</td>\n",
       "    </tr>\n",
       "    <tr>\n",
       "      <th>fortnitebr</th>\n",
       "      <td>0.007712</td>\n",
       "    </tr>\n",
       "    <tr>\n",
       "      <th>askreddit</th>\n",
       "      <td>0.006033</td>\n",
       "    </tr>\n",
       "  </tbody>\n",
       "</table>\n",
       "</div>"
      ],
      "text/plain": [
       "                   0\n",
       "the_donald  0.014045\n",
       "nba         0.012254\n",
       "soccer      0.008974\n",
       "fortnitebr  0.007712\n",
       "askreddit   0.006033"
      ]
     },
     "execution_count": 86,
     "metadata": {},
     "output_type": "execute_result"
    }
   ],
   "source": [
    "importantfeats.sort_values(0,ascending=False).head()"
   ]
  },
  {
   "cell_type": "code",
   "execution_count": 64,
   "metadata": {},
   "outputs": [
    {
     "name": "stdout",
     "output_type": "stream",
     "text": [
      "Score: 0.7206851119894598\n"
     ]
    }
   ],
   "source": [
    "subrpipe = Pipeline([\n",
    "    (\"cvec\", CountVectorizer()),\n",
    "    (\"tf\", TfidfTransformer()),\n",
    "    (\"rf\", RandomForestClassifier(random_state=19, n_jobs=2))])\n",
    "\n",
    "\n",
    "params = {\n",
    "}\n",
    "\n",
    "gs_subr = GridSearchCV(subrpipe, params, cv=5).fit(trainx['subreddit'],trainy)\n",
    "print(\"Score:\", gs_subr.score(testx['subreddit'],testy))\n",
    "\n",
    "\n",
    "print(\"Cross Validation Results: \\n\\n\", \n",
    "      gs_subr.cv_results_, '\\n\\n',\n",
    "     \"Best score: \\n\\n\",\n",
    "     gs_subr.best_score_, '\\n\\n',\n",
    "     \"Best parameters:\",\n",
    "     gs_subr.best_params_, '\\n\\n',\n",
    "     \"Best estimator:\\n\\n\",\n",
    "     gs_subr.best_estimator_,'\\n\\n',)"
   ]
  },
  {
   "cell_type": "code",
   "execution_count": 87,
   "metadata": {},
   "outputs": [
    {
     "name": "stderr",
     "output_type": "stream",
     "text": [
      "/Users/saqibnizami/anaconda3/envs/dsi/lib/python3.6/site-packages/sklearn/linear_model/logistic.py:1228: UserWarning: 'n_jobs' > 1 does not have any effect when 'solver' is set to 'liblinear'. Got 'n_jobs' = 2.\n",
      "  \" = {}.\".format(self.n_jobs))\n",
      "/Users/saqibnizami/anaconda3/envs/dsi/lib/python3.6/site-packages/sklearn/linear_model/logistic.py:1228: UserWarning: 'n_jobs' > 1 does not have any effect when 'solver' is set to 'liblinear'. Got 'n_jobs' = 2.\n",
      "  \" = {}.\".format(self.n_jobs))\n",
      "/Users/saqibnizami/anaconda3/envs/dsi/lib/python3.6/site-packages/sklearn/linear_model/logistic.py:1228: UserWarning: 'n_jobs' > 1 does not have any effect when 'solver' is set to 'liblinear'. Got 'n_jobs' = 2.\n",
      "  \" = {}.\".format(self.n_jobs))\n",
      "/Users/saqibnizami/anaconda3/envs/dsi/lib/python3.6/site-packages/sklearn/linear_model/logistic.py:1228: UserWarning: 'n_jobs' > 1 does not have any effect when 'solver' is set to 'liblinear'. Got 'n_jobs' = 2.\n",
      "  \" = {}.\".format(self.n_jobs))\n",
      "/Users/saqibnizami/anaconda3/envs/dsi/lib/python3.6/site-packages/sklearn/linear_model/logistic.py:1228: UserWarning: 'n_jobs' > 1 does not have any effect when 'solver' is set to 'liblinear'. Got 'n_jobs' = 2.\n",
      "  \" = {}.\".format(self.n_jobs))\n"
     ]
    },
    {
     "name": "stdout",
     "output_type": "stream",
     "text": [
      "Score: 0.7250768555116381\n",
      "Cross Validation Results: \n",
      "\n",
      " {'mean_fit_time': array([0.11523995]), 'std_fit_time': array([0.05312905]), 'mean_score_time': array([0.0150342]), 'std_score_time': array([0.00156849]), 'params': [{}], 'split0_test_score': array([0.72934395]), 'split1_test_score': array([0.713423]), 'split2_test_score': array([0.72879495]), 'split3_test_score': array([0.71252059]), 'split4_test_score': array([0.71801208]), 'mean_test_score': array([0.72041948]), 'std_test_score': array([0.00730676]), 'rank_test_score': array([1], dtype=int32), 'split0_train_score': array([0.78826356]), 'split1_train_score': array([0.79231297]), 'split2_train_score': array([0.79073439]), 'split3_train_score': array([0.79246448]), 'split4_train_score': array([0.79136641]), 'mean_train_score': array([0.79102836]), 'std_train_score': array([0.00152036])} \n",
      "\n",
      " Best score: \n",
      "\n",
      " 0.7204194805907868 \n",
      "\n",
      " Best parameters: {} \n",
      "\n",
      " Best estimator:\n",
      "\n",
      " Pipeline(memory=None,\n",
      "     steps=[('cvec', CountVectorizer(analyzer='word', binary=False, decode_error='strict',\n",
      "        dtype=<class 'numpy.int64'>, encoding='utf-8', input='content',\n",
      "        lowercase=True, max_df=1.0, max_features=None, min_df=1,\n",
      "        ngram_range=(1, 1), preprocessor=None, stop_words=None,\n",
      "        strip...alty='l2', random_state=19, solver='liblinear', tol=0.0001,\n",
      "          verbose=0, warm_start=False))]) \n",
      "\n",
      "\n"
     ]
    },
    {
     "name": "stderr",
     "output_type": "stream",
     "text": [
      "/Users/saqibnizami/anaconda3/envs/dsi/lib/python3.6/site-packages/sklearn/linear_model/logistic.py:1228: UserWarning: 'n_jobs' > 1 does not have any effect when 'solver' is set to 'liblinear'. Got 'n_jobs' = 2.\n",
      "  \" = {}.\".format(self.n_jobs))\n"
     ]
    }
   ],
   "source": [
    "subrlogit = subrpipe = Pipeline([\n",
    "    (\"cvec\", CountVectorizer()),\n",
    "    (\"tf\", TfidfTransformer()),\n",
    "    (\"lr\", LogisticRegression(random_state=19, n_jobs=2))])\n",
    "params = {}\n",
    "gs_lr = GridSearchCV(subrpipe, params, cv=5).fit(trainx['subreddit'],trainy)\n",
    "print(\"Score:\", gs_lr.score(testx['subreddit'],testy))\n",
    "\n",
    "\n",
    "print(\"Cross Validation Results: \\n\\n\", \n",
    "      gs_lr.cv_results_, '\\n\\n',\n",
    "     \"Best score: \\n\\n\",\n",
    "     gs_lr.best_score_, '\\n\\n',\n",
    "     \"Best parameters:\",\n",
    "     gs_lr.best_params_, '\\n\\n',\n",
    "     \"Best estimator:\\n\\n\",\n",
    "     gs_lr.best_estimator_,'\\n\\n',)"
   ]
  },
  {
   "cell_type": "markdown",
   "metadata": {},
   "source": [
    "### Vectorize titles and add them to the model."
   ]
  },
  {
   "cell_type": "code",
   "execution_count": null,
   "metadata": {},
   "outputs": [],
   "source": []
  },
  {
   "cell_type": "code",
   "execution_count": 92,
   "metadata": {},
   "outputs": [],
   "source": [
    "# FROM SKLEARN DOCS\n",
    "class ItemSelector(BaseEstimator, TransformerMixin):\n",
    "    \"\"\"For data grouped by feature, select subset of data at a provided key.\n",
    "\n",
    "    The data is expected to be stored in a 2D data structure, where the first\n",
    "    index is over features and the second is over samples.  i.e.\n",
    "\n",
    "    >> len(data[key]) == n_samples\n",
    "\n",
    "    Please note that this is the opposite convention to scikit-learn feature\n",
    "    matrixes (where the first index corresponds to sample).\n",
    "\n",
    "    ItemSelector only requires that the collection implement getitem\n",
    "    (data[key]).  Examples include: a dict of lists, 2D numpy array, Pandas\n",
    "    DataFrame, numpy record array, etc.\n",
    "\n",
    "    >> data = {'a': [1, 5, 2, 5, 2, 8],\n",
    "               'b': [9, 4, 1, 4, 1, 3]}\n",
    "    >> ds = ItemSelector(key='a')\n",
    "    >> data['a'] == ds.transform(data)\n",
    "\n",
    "    ItemSelector is not designed to handle data grouped by sample.  (e.g. a\n",
    "    list of dicts).  If your data is structured this way, consider a\n",
    "    transformer along the lines of `sklearn.feature_extraction.DictVectorizer`.\n",
    "\n",
    "    Parameters\n",
    "    ----------\n",
    "    key : hashable, required\n",
    "        The key corresponding to the desired value in a mappable.\n",
    "    \"\"\"\n",
    "    def __init__(self, key):\n",
    "        self.key = key\n",
    "\n",
    "    def fit(self, x, y=None):\n",
    "        return self\n",
    "\n",
    "    def transform(self, data_dict):\n",
    "        return data_dict[self.key]"
   ]
  },
  {
   "cell_type": "code",
   "execution_count": null,
   "metadata": {},
   "outputs": [],
   "source": [
    "featunion = FeatureUnion(\n",
    "    transformer_list=[('titles', Pipeline([('selector', ItemSelector(key='title')), \n",
    "                                           ('tfidf', TfidfVectorizer(min_df=50))])),\n",
    "                      ('comments', PI)])\n",
    "bigpipe = Pipeline([\n",
    "    # FeatureUnion to process columns of dataframe accordingly\n",
    "    ('union', FeatureUnion(\n",
    "        transformers=[\n",
    "            # Vectorize titles\n",
    "            ('titles', Pipeline([\n",
    "                ('selector', ItemSelector(key'title')),\n",
    "                \n",
    "            ]))\n",
    "            \n",
    "        ]))\n",
    "])"
   ]
  },
  {
   "cell_type": "code",
   "execution_count": null,
   "metadata": {},
   "outputs": [],
   "source": [
    "# pipeline stuff\n",
    "# use a randomforest\n",
    "tfvect = TfidfVectorizer(stop_words='english')\n",
    "rf = RandomForestClassifier()\n",
    "logreg = LogisticRegression()\n",
    "\n",
    "tube = Pipeline([\n",
    "    ('tfidf', TfidfVectorizer(stop_words = 'english')),\n",
    "    ('rf', RandomForestClassifier()),\n",
    "    ('lr', LogisticRegression())\n",
    "    sd\n",
    "])\n",
    "\n",
    "params = {\n",
    "    'tfidf__min_df': ,\n",
    "    'tfidf_max_df': ,\n",
    "    'rf__max_depth': ,\n",
    "    'rf__min_samples_',\n",
    "    'lr__penalty':['l1','l2'],\n",
    "    'lr__'\n",
    "}\n",
    "\n",
    "gs = GridSearchCV(tube, param_grid=params)\n",
    "gs.fit(X_train, y_train)\n",
    "gs.score(X_test, y_test)"
   ]
  },
  {
   "cell_type": "code",
   "execution_count": 88,
   "metadata": {},
   "outputs": [
    {
     "ename": "NameError",
     "evalue": "name 'Selector' is not defined",
     "output_type": "error",
     "traceback": [
      "\u001b[0;31m---------------------------------------------------------------------------\u001b[0m",
      "\u001b[0;31mNameError\u001b[0m                                 Traceback (most recent call last)",
      "\u001b[0;32m<ipython-input-88-db6e7a83dc71>\u001b[0m in \u001b[0;36m<module>\u001b[0;34m()\u001b[0m\n\u001b[1;32m      5\u001b[0m \u001b[0;34m\u001b[0m\u001b[0m\n\u001b[1;32m      6\u001b[0m nonword_pipeline = Pipeline([\n\u001b[0;32m----> 7\u001b[0;31m     \u001b[0;34m(\u001b[0m\u001b[0;34m'selector'\u001b[0m\u001b[0;34m,\u001b[0m \u001b[0mSelector\u001b[0m\u001b[0;34m(\u001b[0m\u001b[0mkey\u001b[0m\u001b[0;34m=\u001b[0m\u001b[0mnonword\u001b[0m\u001b[0;34m)\u001b[0m\u001b[0;34m)\u001b[0m\u001b[0;34m,\u001b[0m\u001b[0;34m\u001b[0m\u001b[0m\n\u001b[0m\u001b[1;32m      8\u001b[0m     \u001b[0;34m(\u001b[0m\u001b[0;34m'ss'\u001b[0m\u001b[0;34m,\u001b[0m \u001b[0mStandardScaler\u001b[0m\u001b[0;34m(\u001b[0m\u001b[0;34m)\u001b[0m\u001b[0;34m)\u001b[0m\u001b[0;34m\u001b[0m\u001b[0m\n\u001b[1;32m      9\u001b[0m ])\n",
      "\u001b[0;31mNameError\u001b[0m: name 'Selector' is not defined"
     ]
    }
   ],
   "source": [
    "nonword=list(X_train.columns)\n",
    "del(nonword[0])\n",
    "\n",
    "\n",
    "\n",
    "nonword_pipeline = Pipeline([\n",
    "    ('selector', Selector(key=nonword)),\n",
    "    ('ss', StandardScaler())\n",
    "])\n",
    "\n",
    "\n",
    "\n",
    "word_pipeline = Pipeline([\n",
    "    ('selector', Selector(key='title')),\n",
    "    ('vect', CountVectorizer()),\n",
    "    ('tfidf', TfidfTransformer())\n",
    "])\n",
    "\n",
    "\n",
    "\n",
    "merge = FeatureUnion([\n",
    "    ('word', word_pipeline),\n",
    "    ('nonword', nonword_pipeline)\n",
    "])\n",
    "\n",
    "\n",
    "main_pipeline = Pipeline([\n",
    "    ('merger',merge),\n",
    "    ('logreg', LogisticRegression()),\n",
    "])\n",
    "\n",
    "main_pipeline.fit(X_train, y_train)"
   ]
  },
  {
   "cell_type": "code",
   "execution_count": 90,
   "metadata": {},
   "outputs": [
    {
     "data": {
      "text/html": [
       "<div>\n",
       "<style scoped>\n",
       "    .dataframe tbody tr th:only-of-type {\n",
       "        vertical-align: middle;\n",
       "    }\n",
       "\n",
       "    .dataframe tbody tr th {\n",
       "        vertical-align: top;\n",
       "    }\n",
       "\n",
       "    .dataframe thead th {\n",
       "        text-align: right;\n",
       "    }\n",
       "</style>\n",
       "<table border=\"1\" class=\"dataframe\">\n",
       "  <thead>\n",
       "    <tr style=\"text-align: right;\">\n",
       "      <th></th>\n",
       "      <th>Unnamed: 0</th>\n",
       "      <th>comments</th>\n",
       "      <th>created</th>\n",
       "      <th>crossposts</th>\n",
       "      <th>domain</th>\n",
       "      <th>gilded</th>\n",
       "      <th>score</th>\n",
       "      <th>subreddit</th>\n",
       "      <th>title</th>\n",
       "      <th>upvote_ratio</th>\n",
       "      <th>timestamp</th>\n",
       "      <th>p25</th>\n",
       "      <th>p50</th>\n",
       "      <th>p75</th>\n",
       "      <th>over25p</th>\n",
       "      <th>over50p</th>\n",
       "      <th>over75p</th>\n",
       "    </tr>\n",
       "  </thead>\n",
       "  <tbody>\n",
       "    <tr>\n",
       "      <th>19058</th>\n",
       "      <td>19058</td>\n",
       "      <td>278</td>\n",
       "      <td>1.527837e+09</td>\n",
       "      <td>1</td>\n",
       "      <td>i.redd.it</td>\n",
       "      <td>0</td>\n",
       "      <td>7240</td>\n",
       "      <td>FortNiteBR</td>\n",
       "      <td>LTM Idea: Prop Hunt</td>\n",
       "      <td>0.91</td>\n",
       "      <td>2018-06-01 03:11:12</td>\n",
       "      <td>False</td>\n",
       "      <td>False</td>\n",
       "      <td>False</td>\n",
       "      <td>1</td>\n",
       "      <td>1</td>\n",
       "      <td>1</td>\n",
       "    </tr>\n",
       "    <tr>\n",
       "      <th>15420</th>\n",
       "      <td>15420</td>\n",
       "      <td>46</td>\n",
       "      <td>1.527903e+09</td>\n",
       "      <td>0</td>\n",
       "      <td>i.redd.it</td>\n",
       "      <td>0</td>\n",
       "      <td>654</td>\n",
       "      <td>ShitPostCrusaders</td>\n",
       "      <td>Rate my prom tie.</td>\n",
       "      <td>0.98</td>\n",
       "      <td>2018-06-01 21:30:53</td>\n",
       "      <td>False</td>\n",
       "      <td>False</td>\n",
       "      <td>True</td>\n",
       "      <td>1</td>\n",
       "      <td>1</td>\n",
       "      <td>0</td>\n",
       "    </tr>\n",
       "    <tr>\n",
       "      <th>22607</th>\n",
       "      <td>22607</td>\n",
       "      <td>103</td>\n",
       "      <td>1.527876e+09</td>\n",
       "      <td>0</td>\n",
       "      <td>i.redd.it</td>\n",
       "      <td>0</td>\n",
       "      <td>2047</td>\n",
       "      <td>PropagandaPosters</td>\n",
       "      <td>\"Indie Must Be Free! Work and Fight for it!\", ...</td>\n",
       "      <td>0.98</td>\n",
       "      <td>2018-06-01 13:52:05</td>\n",
       "      <td>False</td>\n",
       "      <td>False</td>\n",
       "      <td>False</td>\n",
       "      <td>1</td>\n",
       "      <td>1</td>\n",
       "      <td>1</td>\n",
       "    </tr>\n",
       "    <tr>\n",
       "      <th>20418</th>\n",
       "      <td>20418</td>\n",
       "      <td>15</td>\n",
       "      <td>1.527902e+09</td>\n",
       "      <td>0</td>\n",
       "      <td>imgur.com</td>\n",
       "      <td>0</td>\n",
       "      <td>49</td>\n",
       "      <td>Ice_Poseidon</td>\n",
       "      <td>Found mugshot of Brandon's brother Robert Grosso</td>\n",
       "      <td>0.83</td>\n",
       "      <td>2018-06-01 21:06:48</td>\n",
       "      <td>False</td>\n",
       "      <td>True</td>\n",
       "      <td>True</td>\n",
       "      <td>1</td>\n",
       "      <td>0</td>\n",
       "      <td>0</td>\n",
       "    </tr>\n",
       "    <tr>\n",
       "      <th>10071</th>\n",
       "      <td>10071</td>\n",
       "      <td>57</td>\n",
       "      <td>1.527769e+09</td>\n",
       "      <td>0</td>\n",
       "      <td>v.redd.it</td>\n",
       "      <td>0</td>\n",
       "      <td>314</td>\n",
       "      <td>rupaulsdragrace</td>\n",
       "      <td>throwback to aquaria's most ICONIC (and nude) ...</td>\n",
       "      <td>0.96</td>\n",
       "      <td>2018-05-31 08:16:34</td>\n",
       "      <td>False</td>\n",
       "      <td>False</td>\n",
       "      <td>True</td>\n",
       "      <td>1</td>\n",
       "      <td>1</td>\n",
       "      <td>0</td>\n",
       "    </tr>\n",
       "  </tbody>\n",
       "</table>\n",
       "</div>"
      ],
      "text/plain": [
       "       Unnamed: 0  comments       created  crossposts     domain  gilded  \\\n",
       "19058       19058       278  1.527837e+09           1  i.redd.it       0   \n",
       "15420       15420        46  1.527903e+09           0  i.redd.it       0   \n",
       "22607       22607       103  1.527876e+09           0  i.redd.it       0   \n",
       "20418       20418        15  1.527902e+09           0  imgur.com       0   \n",
       "10071       10071        57  1.527769e+09           0  v.redd.it       0   \n",
       "\n",
       "       score          subreddit  \\\n",
       "19058   7240         FortNiteBR   \n",
       "15420    654  ShitPostCrusaders   \n",
       "22607   2047  PropagandaPosters   \n",
       "20418     49       Ice_Poseidon   \n",
       "10071    314    rupaulsdragrace   \n",
       "\n",
       "                                                   title  upvote_ratio  \\\n",
       "19058                                LTM Idea: Prop Hunt          0.91   \n",
       "15420                                  Rate my prom tie.          0.98   \n",
       "22607  \"Indie Must Be Free! Work and Fight for it!\", ...          0.98   \n",
       "20418   Found mugshot of Brandon's brother Robert Grosso          0.83   \n",
       "10071  throwback to aquaria's most ICONIC (and nude) ...          0.96   \n",
       "\n",
       "                timestamp    p25    p50    p75  over25p  over50p  over75p  \n",
       "19058 2018-06-01 03:11:12  False  False  False        1        1        1  \n",
       "15420 2018-06-01 21:30:53  False  False   True        1        1        0  \n",
       "22607 2018-06-01 13:52:05  False  False  False        1        1        1  \n",
       "20418 2018-06-01 21:06:48  False   True   True        1        0        0  \n",
       "10071 2018-05-31 08:16:34  False  False   True        1        1        0  "
      ]
     },
     "execution_count": 90,
     "metadata": {},
     "output_type": "execute_result"
    }
   ],
   "source": [
    "trainx.head()"
   ]
  },
  {
   "cell_type": "code",
   "execution_count": 96,
   "metadata": {},
   "outputs": [],
   "source": [
    "class ItemSelector(BaseEstimator, TransformerMixin):\n",
    "    \"\"\"\n",
    "    Transformer to select a single column from the data frame to perform additional transformations on\n",
    "    Use on text columns in the data\n",
    "    \"\"\"\n",
    "    def __init__(self, key):\n",
    "        self.key = key\n",
    "\n",
    "    def fit(self, X, y=None):\n",
    "        return self\n",
    "\n",
    "    def transform(self, X):\n",
    "        return X[self.key]\n",
    "    "
   ]
  },
  {
   "cell_type": "code",
   "execution_count": 101,
   "metadata": {},
   "outputs": [
    {
     "name": "stdout",
     "output_type": "stream",
     "text": [
      "Score RFC:  0.7033377250768555\n",
      "Score LogReg:  0.7206851119894598\n"
     ]
    }
   ],
   "source": [
    "# make pipelines for each column\n",
    "# comments = Pipeline([\n",
    "#     ('select', ItemSelector(key='comments'),\n",
    "#     ('std', StandardScaler()))\n",
    "# ])\n",
    "# score = Pipeline([\n",
    "#     ('select', ItemSelector(key='score'),\n",
    "#     ('std', StandardScaler()))\n",
    "# ])\n",
    "# upvote = Pipeline([\n",
    "#     ('select', ItemSelector(key='upvote_ratio'),\n",
    "#     ('std', StandardScaler()))\n",
    "# ])\n",
    "domain = Pipeline([\n",
    "    ('select', ItemSelector(key='domain')),\n",
    "    ('cvec', CountVectorizer()),\n",
    "    ('tft', TfidfTransformer())\n",
    "])\n",
    "subreddit = Pipeline([\n",
    "    ('select', ItemSelector(key='subreddit')),\n",
    "    ('cvec', CountVectorizer()),\n",
    "    ('tft', TfidfTransformer())\n",
    "])\n",
    "title = Pipeline([\n",
    "    ('select', ItemSelector(key='domain')),\n",
    "    ('cvec', CountVectorizer()),\n",
    "    ('tft', TfidfTransformer())\n",
    "])\n",
    "\n",
    "# FeatureUnion-ize the column pipes\n",
    "colpipes = FeatureUnion([(\"domain\", domain),\n",
    "                         (\"subreddit\", subreddit),\n",
    "                         (\"title\", title)])\n",
    "# master pipes\n",
    "pipe_rf = Pipeline([\n",
    "    ('colpipes',colpipes),\n",
    "    ('clf', RandomForestClassifier(random_state=42))\n",
    "])\n",
    "pipe_rf.fit(trainx, trainy)\n",
    "print(\"Score RFC: \", pipe_rf.score(testx, testy))\n",
    "\n",
    "pipe_lr = Pipeline([\n",
    "    ('colpipes',colpipes),\n",
    "    ('clf', LogisticRegression(random_state=42))\n",
    "])\n",
    "pipe_lr.fit(trainx, trainy)\n",
    "print(\"Score LogReg: \", pipe_lr.score(testx, testy))\n",
    "\n"
   ]
  },
  {
   "cell_type": "code",
   "execution_count": 111,
   "metadata": {},
   "outputs": [
    {
     "data": {
      "text/plain": [
       "array([0, 1])"
      ]
     },
     "execution_count": 111,
     "metadata": {},
     "output_type": "execute_result"
    }
   ],
   "source": [
    "pipe_rf.named_steps['clf'].classes_"
   ]
  },
  {
   "cell_type": "code",
   "execution_count": 124,
   "metadata": {},
   "outputs": [
    {
     "data": {
      "text/html": [
       "<div>\n",
       "<style scoped>\n",
       "    .dataframe tbody tr th:only-of-type {\n",
       "        vertical-align: middle;\n",
       "    }\n",
       "\n",
       "    .dataframe tbody tr th {\n",
       "        vertical-align: top;\n",
       "    }\n",
       "\n",
       "    .dataframe thead th {\n",
       "        text-align: right;\n",
       "    }\n",
       "</style>\n",
       "<table border=\"1\" class=\"dataframe\">\n",
       "  <thead>\n",
       "    <tr style=\"text-align: right;\">\n",
       "      <th></th>\n",
       "      <th>feature</th>\n",
       "      <th>score</th>\n",
       "    </tr>\n",
       "  </thead>\n",
       "  <tbody>\n",
       "    <tr>\n",
       "      <th>0</th>\n",
       "      <td>upvote_ratio</td>\n",
       "      <td>1.800621e-04</td>\n",
       "    </tr>\n",
       "    <tr>\n",
       "      <th>1</th>\n",
       "      <td>gilded</td>\n",
       "      <td>9.459197e-05</td>\n",
       "    </tr>\n",
       "    <tr>\n",
       "      <th>2</th>\n",
       "      <td>over75p</td>\n",
       "      <td>6.045332e-05</td>\n",
       "    </tr>\n",
       "    <tr>\n",
       "      <th>3</th>\n",
       "      <td>p50</td>\n",
       "      <td>5.789609e-05</td>\n",
       "    </tr>\n",
       "    <tr>\n",
       "      <th>4</th>\n",
       "      <td>crossposts</td>\n",
       "      <td>5.360407e-05</td>\n",
       "    </tr>\n",
       "    <tr>\n",
       "      <th>5</th>\n",
       "      <td>over50p</td>\n",
       "      <td>5.085026e-05</td>\n",
       "    </tr>\n",
       "    <tr>\n",
       "      <th>6</th>\n",
       "      <td>p75</td>\n",
       "      <td>4.665586e-05</td>\n",
       "    </tr>\n",
       "    <tr>\n",
       "      <th>7</th>\n",
       "      <td>domain</td>\n",
       "      <td>3.603651e-05</td>\n",
       "    </tr>\n",
       "    <tr>\n",
       "      <th>8</th>\n",
       "      <td>title</td>\n",
       "      <td>3.358909e-05</td>\n",
       "    </tr>\n",
       "    <tr>\n",
       "      <th>9</th>\n",
       "      <td>comments</td>\n",
       "      <td>3.198984e-07</td>\n",
       "    </tr>\n",
       "    <tr>\n",
       "      <th>10</th>\n",
       "      <td>p25</td>\n",
       "      <td>3.361196e-08</td>\n",
       "    </tr>\n",
       "    <tr>\n",
       "      <th>11</th>\n",
       "      <td>subreddit</td>\n",
       "      <td>1.235029e-08</td>\n",
       "    </tr>\n",
       "    <tr>\n",
       "      <th>12</th>\n",
       "      <td>Unnamed: 0</td>\n",
       "      <td>0.000000e+00</td>\n",
       "    </tr>\n",
       "    <tr>\n",
       "      <th>13</th>\n",
       "      <td>created</td>\n",
       "      <td>0.000000e+00</td>\n",
       "    </tr>\n",
       "    <tr>\n",
       "      <th>14</th>\n",
       "      <td>score</td>\n",
       "      <td>0.000000e+00</td>\n",
       "    </tr>\n",
       "    <tr>\n",
       "      <th>15</th>\n",
       "      <td>timestamp</td>\n",
       "      <td>0.000000e+00</td>\n",
       "    </tr>\n",
       "    <tr>\n",
       "      <th>16</th>\n",
       "      <td>over25p</td>\n",
       "      <td>0.000000e+00</td>\n",
       "    </tr>\n",
       "  </tbody>\n",
       "</table>\n",
       "</div>"
      ],
      "text/plain": [
       "         feature         score\n",
       "0   upvote_ratio  1.800621e-04\n",
       "1         gilded  9.459197e-05\n",
       "2        over75p  6.045332e-05\n",
       "3            p50  5.789609e-05\n",
       "4     crossposts  5.360407e-05\n",
       "5        over50p  5.085026e-05\n",
       "6            p75  4.665586e-05\n",
       "7         domain  3.603651e-05\n",
       "8          title  3.358909e-05\n",
       "9       comments  3.198984e-07\n",
       "10           p25  3.361196e-08\n",
       "11     subreddit  1.235029e-08\n",
       "12    Unnamed: 0  0.000000e+00\n",
       "13       created  0.000000e+00\n",
       "14         score  0.000000e+00\n",
       "15     timestamp  0.000000e+00\n",
       "16       over25p  0.000000e+00"
      ]
     },
     "execution_count": 124,
     "metadata": {},
     "output_type": "execute_result"
    }
   ],
   "source": [
    "headers = [\"name\", \"score\"]\n",
    "values = sorted(zip(trainx.columns, pipe_rf.named_steps['clf'].feature_importances_), key=lambda x: x[1] * -1)\n",
    "featimp = pd.DataFrame(values, columns=['feature', 'score'])\n",
    "featimp"
   ]
  },
  {
   "cell_type": "code",
   "execution_count": 99,
   "metadata": {},
   "outputs": [
    {
     "data": {
      "text/plain": [
       "Pipeline(memory=None,\n",
       "     steps=[('colpipes', FeatureUnion(n_jobs=1,\n",
       "       transformer_list=[('domain', Pipeline(memory=None,\n",
       "     steps=[('select', ItemSelector(key='domain')), ('cvec', CountVectorizer(analyzer='word', binary=False, decode_error='strict',\n",
       "        dtype=<class 'numpy.int64'>, encoding='utf-8', input='conten...stimators=10, n_jobs=1,\n",
       "            oob_score=False, random_state=42, verbose=0, warm_start=False))])"
      ]
     },
     "execution_count": 99,
     "metadata": {},
     "output_type": "execute_result"
    }
   ],
   "source": [
    "gs = GridSearchCV()"
   ]
  },
  {
   "cell_type": "code",
   "execution_count": 95,
   "metadata": {},
   "outputs": [
    {
     "ename": "TypeError",
     "evalue": "__init__() got multiple values for argument 'key'",
     "output_type": "error",
     "traceback": [
      "\u001b[0;31m---------------------------------------------------------------------------\u001b[0m",
      "\u001b[0;31mTypeError\u001b[0m                                 Traceback (most recent call last)",
      "\u001b[0;32m<ipython-input-95-fdc54f9483c5>\u001b[0m in \u001b[0;36m<module>\u001b[0;34m()\u001b[0m\n\u001b[0;32m----> 1\u001b[0;31m \u001b[0mItemSelector\u001b[0m\u001b[0;34m(\u001b[0m\u001b[0mtrainx\u001b[0m\u001b[0;34m,\u001b[0m \u001b[0mkey\u001b[0m\u001b[0;34m=\u001b[0m\u001b[0;34m'comments'\u001b[0m\u001b[0;34m)\u001b[0m\u001b[0;34m\u001b[0m\u001b[0m\n\u001b[0m",
      "\u001b[0;31mTypeError\u001b[0m: __init__() got multiple values for argument 'key'"
     ]
    }
   ],
   "source": [
    "ItemSelector(trainx, key='comments')"
   ]
  },
  {
   "cell_type": "code",
   "execution_count": null,
   "metadata": {},
   "outputs": [],
   "source": []
  }
 ],
 "metadata": {
  "kernelspec": {
   "display_name": "Python [conda env:dsi]",
   "language": "python",
   "name": "conda-env-dsi-py"
  },
  "language_info": {
   "codemirror_mode": {
    "name": "ipython",
    "version": 3
   },
   "file_extension": ".py",
   "mimetype": "text/x-python",
   "name": "python",
   "nbconvert_exporter": "python",
   "pygments_lexer": "ipython3",
   "version": "3.6.5"
  }
 },
 "nbformat": 4,
 "nbformat_minor": 2
}
